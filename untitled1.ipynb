{
  "cells": [
    {
      "cell_type": "markdown",
      "metadata": {
        "id": "view-in-github",
        "colab_type": "text"
      },
      "source": [
        "<a href=\"https://colab.research.google.com/github/imkumarr/Python/blob/main/untitled1.ipynb\" target=\"_parent\"><img src=\"https://colab.research.google.com/assets/colab-badge.svg\" alt=\"Open In Colab\"/></a>"
      ]
    },
    {
      "cell_type": "code",
      "source": [
        "!git clone https://github.com/imkumarr/Python.git"
      ],
      "metadata": {
        "id": "jg16oKAWsXKO",
        "outputId": "1bfeb3cb-9bf6-4b0f-c724-b56fa00965bc",
        "colab": {
          "base_uri": "https://localhost:8080/"
        }
      },
      "execution_count": 1,
      "outputs": [
        {
          "output_type": "stream",
          "name": "stdout",
          "text": [
            "Cloning into 'Python'...\n",
            "remote: Enumerating objects: 37, done.\u001b[K\n",
            "remote: Counting objects: 100% (37/37), done.\u001b[K\n",
            "remote: Compressing objects: 100% (32/32), done.\u001b[K\n",
            "remote: Total 37 (delta 13), reused 0 (delta 0), pack-reused 0\u001b[K\n",
            "Receiving objects: 100% (37/37), 10.26 KiB | 2.56 MiB/s, done.\n",
            "Resolving deltas: 100% (13/13), done.\n"
          ]
        }
      ]
    },
    {
      "cell_type": "code",
      "execution_count": null,
      "metadata": {
        "colab": {
          "base_uri": "https://localhost:8080/"
        },
        "id": "VhD1_Btl3UB_",
        "outputId": "f930f1ea-2c6e-4919-cbd7-c3d1be05e509"
      },
      "outputs": [
        {
          "name": "stdout",
          "output_type": "stream",
          "text": [
            "222\n",
            "234\n",
            "32.0\n"
          ]
        }
      ],
      "source": [
        "print(int(\"222\")) #string to integer\n",
        "\n",
        "print(str(234))  #integer to strin\n",
        "print(float(32))  #integer to float"
      ]
    },
    {
      "cell_type": "code",
      "execution_count": null,
      "metadata": {
        "colab": {
          "base_uri": "https://localhost:8080/"
        },
        "id": "Y-8kBgdwnrPR",
        "outputId": "fbcb4965-2d16-4c6d-c0c3-28793d2f8f33"
      },
      "outputs": [
        {
          "name": "stdout",
          "output_type": "stream",
          "text": [
            "5\n",
            "True\n"
          ]
        }
      ],
      "source": [
        "string=\"KUMAR\"\n",
        "print(len(string))\n",
        "print(string.endswith(\"MAR\"))"
      ]
    },
    {
      "cell_type": "code",
      "execution_count": null,
      "metadata": {
        "colab": {
          "base_uri": "https://localhost:8080/"
        },
        "id": "7XwYDLon3tjC",
        "outputId": "17f506f6-f734-41c4-e531-c69d8356f43a"
      },
      "outputs": [
        {
          "data": {
            "text/plain": [
              "24"
            ]
          },
          "execution_count": 3,
          "metadata": {},
          "output_type": "execute_result"
        }
      ],
      "source": [
        "def factorial(n):\n",
        "  if n==0 or n==1:\n",
        "    return 1\n",
        "  else:\n",
        "    return n*factorial(n-1)\n",
        "\n",
        "n=4\n",
        "factorial(n)"
      ]
    },
    {
      "cell_type": "code",
      "execution_count": null,
      "metadata": {
        "colab": {
          "base_uri": "https://localhost:8080/"
        },
        "id": "0PUSEgJn5djV",
        "outputId": "c5e6ceb5-4b60-4d8f-9dd0-41942c9ca71c"
      },
      "outputs": [
        {
          "name": "stdout",
          "output_type": "stream",
          "text": [
            "3 2\n"
          ]
        }
      ],
      "source": [
        "def swap(a,b):\n",
        "\n",
        "  temp=a\n",
        "  a=b\n",
        "  b=temp\n",
        "  print(a,b)\n",
        "\n",
        "a,b=(2,3)\n",
        "swap(a,b)"
      ]
    },
    {
      "cell_type": "code",
      "execution_count": null,
      "metadata": {
        "colab": {
          "base_uri": "https://localhost:8080/"
        },
        "id": "-zNFLZIY6FRu",
        "outputId": "7196bf32-4ca1-48dc-b3b9-8238c4f75a03"
      },
      "outputs": [
        {
          "name": "stdout",
          "output_type": "stream",
          "text": [
            "3 2\n"
          ]
        }
      ],
      "source": [
        "def swap(a,b):\n",
        "\n",
        "  a=a+b\n",
        "  b=a-b\n",
        "  a=a-b\n",
        "  print(a,b)\n",
        "\n",
        "a,b=2,3\n",
        "swap(a,b)"
      ]
    },
    {
      "cell_type": "code",
      "execution_count": null,
      "metadata": {
        "colab": {
          "base_uri": "https://localhost:8080/"
        },
        "id": "XIg0vXlt6_b9",
        "outputId": "c2de70df-1312-4f92-b84e-c0141a89bfcf"
      },
      "outputs": [
        {
          "name": "stdout",
          "output_type": "stream",
          "text": [
            "not a polyndrome\n"
          ]
        }
      ],
      "source": [
        "def poly(n):\n",
        "  res=n[::-1]\n",
        "  if n==res:\n",
        "    print(\"Polyndrom\")\n",
        "  else:\n",
        "    print(\"not a polyndrome\")\n",
        "\n",
        "n=\"nojn\"\n",
        "poly(n)"
      ]
    },
    {
      "cell_type": "code",
      "execution_count": null,
      "metadata": {
        "colab": {
          "background_save": true
        },
        "id": "KWcXKrBf7WXc",
        "outputId": "86164b00-74ef-48ff-dc34-b72707a7bd7d"
      },
      "outputs": [
        {
          "name": "stdout",
          "output_type": "stream",
          "text": [
            "1\n",
            "3\n",
            "6\n",
            "10\n",
            "15\n"
          ]
        }
      ],
      "source": [
        "def sum_array(n):\n",
        "\n",
        "  sum=0\n",
        "  for i in n:\n",
        "    sum=sum+i\n"
      ]
    },
    {
      "cell_type": "code",
      "source": [
        "def fizzbuzz(n):\n",
        "  for fizzbuzz in range(1,n):\n",
        "    if fizzbuzz % 3 ==0 and fizzbuzz % 5==0:\n",
        "      print(\"fizzbuzz\")\n",
        "      continue\n",
        "    elif fizzbuzz % 3 ==0:\n",
        "      print(\"fizz\")\n",
        "      continue\n",
        "    elif fizzbuzz % 5==0:\n",
        "      print(\"buzz\")\n",
        "      continue\n",
        "    else:\n",
        "      print(fizzbuzz)\n",
        "n=6\n",
        "fizzbuzz(n)"
      ],
      "metadata": {
        "colab": {
          "base_uri": "https://localhost:8080/"
        },
        "id": "zqWluUjZH2Pf",
        "outputId": "8907bac4-4378-48a7-b903-e0a2a1a01e7b"
      },
      "execution_count": null,
      "outputs": [
        {
          "output_type": "stream",
          "name": "stdout",
          "text": [
            "1\n",
            "2\n",
            "fizz\n",
            "4\n",
            "buzz\n"
          ]
        }
      ]
    },
    {
      "cell_type": "code",
      "source": [
        "def prime(a,b):\n",
        "  for i in range(a,b):\n",
        "    for j in range(2,i):\n",
        "      if i%j==0:\n",
        "        break\n",
        "    else:\n",
        "      print(i)\n",
        "a,b=1,12\n",
        "prime(a,b)"
      ],
      "metadata": {
        "colab": {
          "base_uri": "https://localhost:8080/"
        },
        "id": "3VhXdEXmcSUL",
        "outputId": "910384fc-6128-495e-a185-cfa592b8741b"
      },
      "execution_count": null,
      "outputs": [
        {
          "output_type": "stream",
          "name": "stdout",
          "text": [
            "1\n",
            "2\n",
            "3\n",
            "5\n",
            "7\n",
            "11\n"
          ]
        }
      ]
    }
  ],
  "metadata": {
    "colab": {
      "provenance": [],
      "authorship_tag": "ABX9TyPYF9X0EpN5ggulhQA1tnlk",
      "include_colab_link": true
    },
    "kernelspec": {
      "display_name": "Python 3",
      "name": "python3"
    },
    "language_info": {
      "name": "python"
    }
  },
  "nbformat": 4,
  "nbformat_minor": 0
}