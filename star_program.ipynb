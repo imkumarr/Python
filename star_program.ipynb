{
  "cells": [
    {
      "cell_type": "markdown",
      "metadata": {
        "id": "view-in-github",
        "colab_type": "text"
      },
      "source": [
        "<a href=\"https://colab.research.google.com/github/imkumarr/Python/blob/main/star_program.ipynb\" target=\"_parent\"><img src=\"https://colab.research.google.com/assets/colab-badge.svg\" alt=\"Open In Colab\"/></a>"
      ]
    },
    {
      "cell_type": "code",
      "execution_count": 26,
      "metadata": {
        "colab": {
          "base_uri": "https://localhost:8080/"
        },
        "id": "gE544nvA10x_",
        "outputId": "e4a3d196-8810-4d21-f35d-4600711fec71"
      },
      "outputs": [
        {
          "output_type": "stream",
          "name": "stdout",
          "text": [
            "*         \n",
            "* *       \n",
            "* * *     \n",
            "* * * *   \n",
            "* * * * * \n"
          ]
        }
      ],
      "source": [
        "'''star program\n",
        "*\n",
        "**\n",
        "***\n",
        "****\n",
        "***** '''\n",
        "\n",
        "def star(n):\n",
        "\n",
        "  for i in range(1,n):\n",
        "    for j in range(1, n):\n",
        "      if j<=i:\n",
        "        print(\"*\", end=\" \")\n",
        "      else:\n",
        "        print(\" \", end=\" \")\n",
        "    print()\n",
        "\n",
        "n=6\n",
        "star(n)\n"
      ]
    },
    {
      "cell_type": "code",
      "execution_count": 27,
      "metadata": {
        "colab": {
          "base_uri": "https://localhost:8080/"
        },
        "id": "qG2HK1Ko2tYF",
        "outputId": "78360a76-d750-4515-f14b-2a1a8c06671f"
      },
      "outputs": [
        {
          "output_type": "stream",
          "name": "stdout",
          "text": [
            "* * * * \n",
            "* * *   \n",
            "* *     \n",
            "*       \n"
          ]
        }
      ],
      "source": [
        "'''\n",
        "*****\n",
        "****\n",
        "***\n",
        "**\n",
        "*\n",
        "'''\n",
        "\n",
        "def star(n):\n",
        "\n",
        "  for i in range(1,n):\n",
        "    for j in range(1,n):\n",
        "      if j<=n-i:\n",
        "        print(\"*\", end=\" \")\n",
        "      else:\n",
        "        print(\" \",end=' ')\n",
        "    print()\n",
        "star(5)"
      ]
    },
    {
      "cell_type": "code",
      "execution_count": 29,
      "metadata": {
        "colab": {
          "base_uri": "https://localhost:8080/"
        },
        "id": "QJ7Zvb784k0W",
        "outputId": "cf7f9cf4-0e78-4b0f-9274-ad2b5e9363f6"
      },
      "outputs": [
        {
          "output_type": "stream",
          "name": "stdout",
          "text": [
            "* * * * \n",
            "  * * * \n",
            "    * * \n",
            "      * \n"
          ]
        }
      ],
      "source": [
        "'''\n",
        "*****\n",
        " ****\n",
        "  ***\n",
        "   **\n",
        "    *\n",
        "'''\n",
        "def star(n):\n",
        "  for i in range(1,n):\n",
        "    for j in range(1,n):\n",
        "      if j>=i:\n",
        "        print(\"*\", end=' ')\n",
        "      else:\n",
        "        print(\" \", end=' ')\n",
        "    print()\n",
        "n=5\n",
        "star(n)"
      ]
    },
    {
      "cell_type": "code",
      "source": [
        "'''\n",
        "      *\n",
        "    * *\n",
        "  * * *\n",
        "* * * *\n",
        "'''\n",
        "def star(n):\n",
        "  for i in range(1,n):\n",
        "      for j in range(1,n):\n",
        "        if j>=n-i:\n",
        "          print(\"*\", end=' ')\n",
        "        else:\n",
        "          print(\" \", end=' ')\n",
        "      print()\n",
        "star(n)"
      ],
      "metadata": {
        "colab": {
          "base_uri": "https://localhost:8080/"
        },
        "id": "M9rin_AuDUoi",
        "outputId": "3ece5df2-1327-4fd8-d800-ef868e229575"
      },
      "execution_count": 31,
      "outputs": [
        {
          "output_type": "stream",
          "name": "stdout",
          "text": [
            "      * \n",
            "    * * \n",
            "  * * * \n",
            "* * * * \n"
          ]
        }
      ]
    }
  ],
  "metadata": {
    "colab": {
      "provenance": [],
      "authorship_tag": "ABX9TyMTy7rg/aXwnapoB5SRJxm6",
      "include_colab_link": true
    },
    "kernelspec": {
      "display_name": "Python 3",
      "name": "python3"
    },
    "language_info": {
      "name": "python"
    }
  },
  "nbformat": 4,
  "nbformat_minor": 0
}