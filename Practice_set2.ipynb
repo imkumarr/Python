{
  "nbformat": 4,
  "nbformat_minor": 0,
  "metadata": {
    "colab": {
      "provenance": [],
      "authorship_tag": "ABX9TyMADrFTHL2uWTkEXMXoq9j5",
      "include_colab_link": true
    },
    "kernelspec": {
      "name": "python3",
      "display_name": "Python 3"
    },
    "language_info": {
      "name": "python"
    }
  },
  "cells": [
    {
      "cell_type": "markdown",
      "metadata": {
        "id": "view-in-github",
        "colab_type": "text"
      },
      "source": [
        "<a href=\"https://colab.research.google.com/github/imkumarr/Python/blob/main/Practice_set2.ipynb\" target=\"_parent\"><img src=\"https://colab.research.google.com/assets/colab-badge.svg\" alt=\"Open In Colab\"/></a>"
      ]
    },
    {
      "cell_type": "code",
      "execution_count": null,
      "metadata": {
        "colab": {
          "base_uri": "https://localhost:8080/"
        },
        "id": "BUvNyybxJj0N",
        "outputId": "0aa11164-8cd9-482f-8673-7ac776b29185"
      },
      "outputs": [
        {
          "output_type": "stream",
          "name": "stdout",
          "text": [
            "a is 20 b is  10\n"
          ]
        }
      ],
      "source": [
        "def swap(a,b):\n",
        "\n",
        "  temp=a\n",
        "  a=b\n",
        "  b=temp\n",
        "  print(\"a is\", a, \"b is \", b)\n",
        "\n",
        "swap(10,20)"
      ]
    },
    {
      "cell_type": "code",
      "source": [
        "def swap(a,b):\n",
        "  a=a+b\n",
        "  b=a-b\n",
        "  a=a-b\n",
        "  print(a,b)\n",
        "swap(10,20)"
      ],
      "metadata": {
        "colab": {
          "base_uri": "https://localhost:8080/"
        },
        "id": "xyc4tbI8w9RN",
        "outputId": "666b50b6-0c04-480f-afd3-c1be96964468"
      },
      "execution_count": null,
      "outputs": [
        {
          "output_type": "stream",
          "name": "stdout",
          "text": [
            "20 10\n"
          ]
        }
      ]
    },
    {
      "cell_type": "code",
      "source": [
        "def chec_num(n):\n",
        "  if n>0:\n",
        "    print(\"positive\")\n",
        "  elif n<0:\n",
        "\n",
        "    print(\"negative\")\n",
        "  else:\n",
        "    print(\"zero\")\n",
        "\n",
        "n= int(input())\n",
        "chec_num(n)"
      ],
      "metadata": {
        "colab": {
          "base_uri": "https://localhost:8080/"
        },
        "id": "J7d1pV6pxUXO",
        "outputId": "7552d23a-3cb5-4a0f-b5c9-e77c9c9c19e9"
      },
      "execution_count": null,
      "outputs": [
        {
          "output_type": "stream",
          "name": "stdout",
          "text": [
            "-1\n",
            "negative\n"
          ]
        }
      ]
    },
    {
      "cell_type": "code",
      "source": [
        "def odd_evn(n):\n",
        "  if n>0:\n",
        "    if n%2==0:\n",
        "      print(\"even\")\n",
        "    else:\n",
        "      print(\"odd\")\n",
        "n=int(input())\n",
        "odd_evn(n)\n"
      ],
      "metadata": {
        "colab": {
          "base_uri": "https://localhost:8080/"
        },
        "id": "aMgyORThyhT1",
        "outputId": "2f9a54c3-345b-4219-db4d-8cb8ce44bd68"
      },
      "execution_count": null,
      "outputs": [
        {
          "name": "stdout",
          "output_type": "stream",
          "text": [
            "0\n"
          ]
        }
      ]
    },
    {
      "cell_type": "code",
      "source": [
        "def prime(n):\n",
        "\n",
        "  for i in range(2,n):\n",
        "    if n%i==0:\n",
        "      print(\"not a prime\")\n",
        "      break\n",
        "  else:\n",
        "    print(\"prime\")\n",
        "\n",
        "n=8\n",
        "prime(n)"
      ],
      "metadata": {
        "colab": {
          "base_uri": "https://localhost:8080/"
        },
        "id": "yiZmpSjiyood",
        "outputId": "eecc7a65-5100-4dac-8306-67a1fb3e6c2b"
      },
      "execution_count": null,
      "outputs": [
        {
          "output_type": "stream",
          "name": "stdout",
          "text": [
            "not a prime\n"
          ]
        }
      ]
    },
    {
      "cell_type": "code",
      "source": [
        "def prime(start,end):\n",
        "\n",
        "  for i in range(start,end):\n",
        "    for j in range(2,i):\n",
        "      if i%j==0:\n",
        "        break\n",
        "    else:\n",
        "      print(i, end=' ')\n",
        "\n",
        "start,end=10,50\n",
        "prime(start,end)\n"
      ],
      "metadata": {
        "colab": {
          "base_uri": "https://localhost:8080/"
        },
        "id": "Gf7rf71gODYa",
        "outputId": "133ea2ee-a691-41f5-e7c0-7727ba243f1d"
      },
      "execution_count": null,
      "outputs": [
        {
          "output_type": "stream",
          "name": "stdout",
          "text": [
            "11 13 17 19 23 29 31 37 41 43 47 "
          ]
        }
      ]
    },
    {
      "cell_type": "code",
      "source": [
        "def fact(n):\n",
        "  if n==0 or n==1:\n",
        "    return 1\n",
        "  else:\n",
        "    return n*fact(n-1)\n",
        "    for i in n:\n",
        "      print(i)\n",
        "\n",
        "\n",
        "\n",
        "\n",
        "fact(2)\n"
      ],
      "metadata": {
        "colab": {
          "base_uri": "https://localhost:8080/"
        },
        "id": "msq0ZaK94isS",
        "outputId": "552d5609-be89-4886-de92-1ae1ec95d0f7"
      },
      "execution_count": null,
      "outputs": [
        {
          "output_type": "execute_result",
          "data": {
            "text/plain": [
              "2"
            ]
          },
          "metadata": {},
          "execution_count": 77
        }
      ]
    },
    {
      "cell_type": "code",
      "source": [],
      "metadata": {
        "id": "xWm90IZ_4lsL"
      },
      "execution_count": null,
      "outputs": []
    }
  ]
}